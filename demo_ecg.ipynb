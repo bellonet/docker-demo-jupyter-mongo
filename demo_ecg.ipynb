{
 "cells": [
  {
   "cell_type": "markdown",
   "id": "0d9ef957-e8a3-4a27-b9f0-fb38c5962ca7",
   "metadata": {},
   "source": [
    "In this notebook I provide a demo for classification of ECG data.  \n",
    "It should be run from this docker (see installation instructions in the repo):  \n",
    "https://github.com/bellonet/docker-demo-jupyter-mongo\n",
    "\n",
    "ECG data source:  \n",
    "https://zenodo.org/record/5711347#.YxttUdVBzJV  \n",
    "Dataset: ECG Rhythm LEAD I  \n",
    "It's a part of the PTB-XL dataset:  \n",
    "https://physionet.org/content/ptb-xl/1.0.2/\n",
    "\n",
    "\n",
    "Analysis was copied from:   \n",
    "https://github.com/spdrnl/ecg/blob/master/ECG.ipynb"
   ]
  },
  {
   "cell_type": "code",
   "execution_count": null,
   "id": "6c2d8d9c-2c18-4aa6-8cdd-aa2bef384908",
   "metadata": {},
   "outputs": [],
   "source": [
    "import pymongo\n",
    "\n",
    "import numpy as np\n",
    "import pandas as pd\n",
    "import tensorflow as tf\n",
    "from tensorflow import keras\n",
    "from tensorflow.keras import regularizers\n",
    "from tensorflow.keras.callbacks import ModelCheckpoint\n",
    "import matplotlib.pyplot as plt\n",
    "from scipy import stats\n",
    "from sklearn.model_selection import train_test_split\n",
    "import sklearn\n",
    "import itertools\n",
    "#from tensorflow_addons.optimizers import CyclicalLearningRate\n",
    "import matplotlib as mpl\n",
    "mpl.style.use('seaborn')"
   ]
  },
  {
   "cell_type": "markdown",
   "id": "c8be01ae-eb84-4757-9814-1daa53861ae1",
   "metadata": {},
   "source": [
    "### Getting ECG database from MongoDB\n",
    "If you opened the notebook directly after initializing the container the DB might still be populating. This should take about a minute, maybe it's a good time to go make a coffee."
   ]
  },
  {
   "cell_type": "code",
   "execution_count": null,
   "id": "467be9ce-2ef2-467c-bbca-0ce2d08da497",
   "metadata": {},
   "outputs": [],
   "source": [
    "# Connection with mongo client - host name and port:\n",
    "client = pymongo.MongoClient('mongohost', 27017)"
   ]
  },
  {
   "cell_type": "code",
   "execution_count": 13,
   "id": "3b48ae5e-7157-4b1d-94d3-4bbbdad50a32",
   "metadata": {},
   "outputs": [
    {
     "data": {
      "text/plain": [
       "['admin', 'config', 'ecg_db', 'local']"
      ]
     },
     "execution_count": 13,
     "metadata": {},
     "output_type": "execute_result"
    }
   ],
   "source": [
    "# List all databases: \n",
    "# If this line takes time to execute - the database is still populating. Please wait a minute and run again.\n",
    "client.list_database_names()"
   ]
  },
  {
   "cell_type": "code",
   "execution_count": 60,
   "id": "8ab06c68-835f-4e7c-a632-9e76b0cac7e1",
   "metadata": {},
   "outputs": [],
   "source": [
    "# Get the ECG database:\n",
    "db = client['ecg_db']"
   ]
  },
  {
   "cell_type": "markdown",
   "id": "f586f79f-feb4-46bb-9a78-f6d17dca3337",
   "metadata": {},
   "source": [
    "MongoDB stores data records as *documents*, which are gathered together in *collections*.   \n",
    "A database stores one or more collections of documents."
   ]
  },
  {
   "cell_type": "code",
   "execution_count": 36,
   "id": "ca599214-2f17-401f-875d-1eb5bbbf2c2b",
   "metadata": {},
   "outputs": [],
   "source": [
    "# in ecg_db the documents are stored in the \"patients\" collection:\n",
    "coll = db[\"patients\"]"
   ]
  },
  {
   "cell_type": "markdown",
   "id": "d1f94f38-5692-450a-ac22-a5bd2d1c339a",
   "metadata": {},
   "source": [
    "### Viewing the dataset:"
   ]
  },
  {
   "cell_type": "code",
   "execution_count": 37,
   "id": "4c228c3f-9aa6-428f-bb12-e27adeb250c4",
   "metadata": {},
   "outputs": [
    {
     "data": {
      "text/plain": [
       "21837"
      ]
     },
     "execution_count": 37,
     "metadata": {},
     "output_type": "execute_result"
    }
   ],
   "source": [
    "# Count how many patients are stored in the collection:\n",
    "coll.count_documents({})"
   ]
  },
  {
   "cell_type": "code",
   "execution_count": 39,
   "id": "eb7a7b5c-5dfd-4b50-9d23-aa2b1439122f",
   "metadata": {},
   "outputs": [],
   "source": [
    "## See whoch fields each patient has:\n",
    "## Commented as the time-series field is a long list (very long output)\n",
    "\n",
    "#coll.find_one()\n",
    "\n",
    "#### outputed fields:\n",
    "## _id\n",
    "## ecg_id -         values - positive integer\n",
    "## age -            values - positive integer / -1\n",
    "## sex -            values - 0 / 1 / -1\n",
    "## height           values - positive integer / -1\n",
    "## rhythm_diag      values - SR / OTHER / AFIB\n",
    "## time-series      Values - Float array of len 1000"
   ]
  },
  {
   "cell_type": "code",
   "execution_count": 40,
   "id": "c6d0550b-ee22-44ba-ad01-a5494959be6e",
   "metadata": {},
   "outputs": [],
   "source": [
    "## Slicing example - selecting all the records belonging to a specific criterion:\n",
    "## In this case age larger than (lt) 50 and sex==0.\n",
    "## For those records we get a list of the diagnosis and a list of the time-series.\n",
    "## As time-series is a list per patient that creates a list of lists.\n",
    "\n",
    "diags = list()\n",
    "signals = list()\n",
    "for e in coll.find({\"age\": {\"$lt\": 50}, \"sex\": 0}):\n",
    "    diags.append(e[\"rhythm_diag\"])\n",
    "    signals.append(e[\"time-series\"])"
   ]
  },
  {
   "cell_type": "code",
   "execution_count": 42,
   "id": "49aef852-be6e-437f-b407-5e6194b574f5",
   "metadata": {},
   "outputs": [
    {
     "data": {
      "text/plain": [
       "(2736, 1000)"
      ]
     },
     "execution_count": 42,
     "metadata": {},
     "output_type": "execute_result"
    }
   ],
   "source": [
    "# List of lists to np array:\n",
    "signals = np.array(signals)\n",
    "signals.shape"
   ]
  },
  {
   "cell_type": "code",
   "execution_count": 44,
   "id": "991a44e6-3393-45bb-ba8b-9c3a6def6e2d",
   "metadata": {},
   "outputs": [
    {
     "data": {
      "text/plain": [
       "2736"
      ]
     },
     "execution_count": 44,
     "metadata": {},
     "output_type": "execute_result"
    }
   ],
   "source": [
    "len(diags)"
   ]
  },
  {
   "cell_type": "code",
   "execution_count": 67,
   "id": "5b11e7a1-e83f-4651-99f5-3acb37be4a0c",
   "metadata": {},
   "outputs": [
    {
     "data": {
      "text/plain": [
       "Text(0.5, 1.0, 'Distribution of rhythm_diag \\n for patients sex=0, age>50')"
      ]
     },
     "execution_count": 67,
     "metadata": {},
     "output_type": "execute_result"
    },
    {
     "data": {
      "image/png": "[encoded data removed]",
      "text/plain": [
       "<Figure size 400x400 with 1 Axes>"
      ]
     },
     "metadata": {},
     "output_type": "display_data"
    }
   ],
   "source": [
    "plt.figure(figsize=(4,4))\n",
    "plt.hist(diags)\n",
    "plt.title(\"Distribution of rhythm_diag \\n for patients sex=0, age>50\")\n",
    "\n",
    "# SR - Sinus Rhythm, AFIB - Atrial Fibrillation"
   ]
  },
  {
   "cell_type": "code",
   "execution_count": 84,
   "id": "09cfb48d-0334-4215-94f3-5e6de8249bc1",
   "metadata": {},
   "outputs": [
    {
     "data": {
      "text/plain": [
       "Text(0.5, 1.0, 'example time-series signal from one patient')"
      ]
     },
     "execution_count": 84,
     "metadata": {},
     "output_type": "execute_result"
    },
    {
     "data": {
      "image/png": "[encoded data removed]",
      "text/plain": [
       "<Figure size 800x550 with 1 Axes>"
      ]
     },
     "metadata": {},
     "output_type": "display_data"
    }
   ],
   "source": [
    "plt.plot(signals[0])\n",
    "plt.xlabel('Time')\n",
    "plt.ylabel('Activation')\n",
    "plt.title(\"example time-series signal from one patient\")"
   ]
  },
  {
   "cell_type": "markdown",
   "id": "aa350c14-1eb7-4cd3-be87-14af1a4d8048",
   "metadata": {},
   "source": [
    "### Analysis\n",
    "The entire dataset will be used for the analysis (divided to train and test)"
   ]
  },
  {
   "cell_type": "code",
   "execution_count": 118,
   "id": "22fda96d-edac-40b0-8296-4743de7b9be9",
   "metadata": {},
   "outputs": [],
   "source": [
    "diags = list()\n",
    "signals = list()\n",
    "for e in coll.find({}):\n",
    "    diags.append(e[\"rhythm_diag\"])\n",
    "    signals.append(e[\"time-series\"])\n",
    "    \n",
    "signals = np.array(signals)"
   ]
  },
  {
   "cell_type": "code",
   "execution_count": 119,
   "id": "b4017ac5-d22b-4a02-9208-310f9e7ac778",
   "metadata": {},
   "outputs": [
    {
     "data": {
      "text/plain": [
       "((21837, 1000), 21837)"
      ]
     },
     "execution_count": 119,
     "metadata": {},
     "output_type": "execute_result"
    }
   ],
   "source": [
    "signals.shape, len(diags)"
   ]
  },
  {
   "cell_type": "code",
   "execution_count": 120,
   "id": "b3d276a8-8eab-4dde-bc74-4c19bc8b6d74",
   "metadata": {},
   "outputs": [
    {
     "data": {
      "text/plain": [
       "(array([0, 1, 2]), (21837,))"
      ]
     },
     "execution_count": 120,
     "metadata": {},
     "output_type": "execute_result"
    }
   ],
   "source": [
    "# diagnosis values - Encode target labels with value between 0 and n_classes-1.\n",
    "le = sklearn.preprocessing.LabelEncoder()\n",
    "le.fit(diags)\n",
    "y = le.transform(diags)\n",
    "\n",
    "## For the reverse transform - back to string values:\n",
    "# le.inverse_transform(y)\n",
    "np.unique(y), y.shape"
   ]
  },
  {
   "cell_type": "code",
   "execution_count": 121,
   "id": "b9ae889b-b7d3-4b84-841b-5111774dd4b2",
   "metadata": {},
   "outputs": [
    {
     "name": "stdout",
     "output_type": "stream",
     "text": [
      "There are 0 nan values in the time seires data.\n"
     ]
    }
   ],
   "source": [
    "# Check for nans:\n",
    "print(\"There are {} nan values in the time seires data.\".format(np.sum(np.isnan(signals))))"
   ]
  },
  {
   "cell_type": "code",
   "execution_count": 122,
   "id": "0e0201e9-c7c0-4f71-b1d1-6ea4fe0071a8",
   "metadata": {},
   "outputs": [
    {
     "name": "stdout",
     "output_type": "stream",
     "text": [
      "The minimum and maximum activation values in the time-series are -7.455, 4.398\n"
     ]
    }
   ],
   "source": [
    "print(\"The minimum and maximum activation values in the time-series are {}, {}\".format(np.min(signals), np.max(signals)))"
   ]
  },
  {
   "cell_type": "code",
   "execution_count": 123,
   "id": "66bc9cff-300d-45ae-b4df-3ec50aba27ba",
   "metadata": {},
   "outputs": [
    {
     "name": "stdout",
     "output_type": "stream",
     "text": [
      "size training set: (14630, 1000) (14630,)\n",
      "size testing set: (7207, 1000) (7207,)\n",
      "min and max training set: -7.455 2\n",
      "min and max testing set: -5.984 2\n"
     ]
    }
   ],
   "source": [
    "# train test split:\n",
    "X_train, X_test, y_train, y_test = train_test_split(signals, y, test_size=0.33, random_state=42)\n",
    "\n",
    "print('size training set:', X_train.shape, y_train.shape)\n",
    "print('size testing set:', X_test.shape, y_test.shape)\n",
    "print('min and max training set:', np.min(X_train), np.max(y_train))\n",
    "print('min and max testing set:', np.min(X_test), np.max(y_test))"
   ]
  },
  {
   "cell_type": "code",
   "execution_count": 126,
   "id": "8400c530-f1d2-4ee7-ba5d-537c4381cfde",
   "metadata": {},
   "outputs": [],
   "source": [
    "# Format y to one hot:\n",
    "y_train = keras.utils.to_categorical(y_train, 3)\n",
    "y_test = keras.utils.to_categorical(y_test, 3)"
   ]
  },
  {
   "cell_type": "code",
   "execution_count": 127,
   "id": "e700fa62-9bd4-4c8b-a284-2e21223610e6",
   "metadata": {},
   "outputs": [],
   "source": [
    "# Define the model architecture (very basic NN)\n",
    "def get_base_model(categories=3):\n",
    "    return keras.Sequential([\n",
    "        keras.layers.Dense(15, activation='relu', input_shape=[1000], kernel_regularizer=regularizers.l2(0.0001)),\n",
    "        keras.layers.Dense(10, activation='relu', kernel_regularizer=regularizers.l2(0.0001)),\n",
    "        keras.layers.Dense(5, activation='relu'),\n",
    "        keras.layers.Dense(3, activation='softmax')                   \n",
    "  ])"
   ]
  },
  {
   "cell_type": "code",
   "execution_count": 132,
   "id": "91d87d85-9884-45e2-9bd8-40e3ffcb23d6",
   "metadata": {},
   "outputs": [
    {
     "name": "stdout",
     "output_type": "stream",
     "text": [
      "Epoch 1/50\n",
      "58/58 [==============================] - 1s 2ms/step - loss: 1.0505 - accuracy: 0.6735\n",
      "Epoch 2/50\n",
      "58/58 [==============================] - 0s 3ms/step - loss: 0.8491 - accuracy: 0.7677\n",
      "Epoch 3/50\n",
      "58/58 [==============================] - 0s 3ms/step - loss: 0.7093 - accuracy: 0.7679\n",
      "Epoch 4/50\n",
      "58/58 [==============================] - 0s 2ms/step - loss: 0.6695 - accuracy: 0.7686\n",
      "Epoch 5/50\n",
      "58/58 [==============================] - 0s 2ms/step - loss: 0.6505 - accuracy: 0.7694\n",
      "Epoch 6/50\n",
      "58/58 [==============================] - 0s 3ms/step - loss: 0.6331 - accuracy: 0.7722\n",
      "Epoch 7/50\n",
      "58/58 [==============================] - 0s 3ms/step - loss: 0.6159 - accuracy: 0.7754\n",
      "Epoch 8/50\n",
      "58/58 [==============================] - 0s 3ms/step - loss: 0.5979 - accuracy: 0.7805\n",
      "Epoch 9/50\n",
      "58/58 [==============================] - 0s 3ms/step - loss: 0.5801 - accuracy: 0.7865\n",
      "Epoch 10/50\n",
      "58/58 [==============================] - 0s 3ms/step - loss: 0.5624 - accuracy: 0.7921\n",
      "Epoch 11/50\n",
      "58/58 [==============================] - 0s 3ms/step - loss: 0.5436 - accuracy: 0.7949\n",
      "Epoch 12/50\n",
      "58/58 [==============================] - 0s 3ms/step - loss: 0.5263 - accuracy: 0.8051\n",
      "Epoch 13/50\n",
      "58/58 [==============================] - 0s 3ms/step - loss: 0.5089 - accuracy: 0.8100\n",
      "Epoch 14/50\n",
      "58/58 [==============================] - 0s 3ms/step - loss: 0.4915 - accuracy: 0.8160\n",
      "Epoch 15/50\n",
      "58/58 [==============================] - 0s 3ms/step - loss: 0.4758 - accuracy: 0.8219\n",
      "Epoch 16/50\n",
      "58/58 [==============================] - 0s 3ms/step - loss: 0.4599 - accuracy: 0.8265\n",
      "Epoch 17/50\n",
      "58/58 [==============================] - 0s 3ms/step - loss: 0.4469 - accuracy: 0.8321\n",
      "Epoch 18/50\n",
      "58/58 [==============================] - 0s 3ms/step - loss: 0.4336 - accuracy: 0.8372\n",
      "Epoch 19/50\n",
      "58/58 [==============================] - 0s 3ms/step - loss: 0.4192 - accuracy: 0.8423\n",
      "Epoch 20/50\n",
      "58/58 [==============================] - 0s 3ms/step - loss: 0.4050 - accuracy: 0.8455\n",
      "Epoch 21/50\n",
      "58/58 [==============================] - 0s 3ms/step - loss: 0.3929 - accuracy: 0.8537\n",
      "Epoch 22/50\n",
      "58/58 [==============================] - 0s 3ms/step - loss: 0.3826 - accuracy: 0.8591\n",
      "Epoch 23/50\n",
      "58/58 [==============================] - 0s 3ms/step - loss: 0.3709 - accuracy: 0.8623\n",
      "Epoch 24/50\n",
      "58/58 [==============================] - 0s 3ms/step - loss: 0.3572 - accuracy: 0.8675\n",
      "Epoch 25/50\n",
      "58/58 [==============================] - 0s 3ms/step - loss: 0.3476 - accuracy: 0.8702\n",
      "Epoch 26/50\n",
      "58/58 [==============================] - 0s 3ms/step - loss: 0.3431 - accuracy: 0.8720\n",
      "Epoch 27/50\n",
      "58/58 [==============================] - 0s 3ms/step - loss: 0.3293 - accuracy: 0.8767\n",
      "Epoch 28/50\n",
      "58/58 [==============================] - 0s 3ms/step - loss: 0.3215 - accuracy: 0.8826\n",
      "Epoch 29/50\n",
      "58/58 [==============================] - 0s 3ms/step - loss: 0.3132 - accuracy: 0.8837\n",
      "Epoch 30/50\n",
      "58/58 [==============================] - 0s 3ms/step - loss: 0.3045 - accuracy: 0.8875\n",
      "Epoch 31/50\n",
      "58/58 [==============================] - 0s 3ms/step - loss: 0.3029 - accuracy: 0.8881\n",
      "Epoch 32/50\n",
      "58/58 [==============================] - 0s 3ms/step - loss: 0.2958 - accuracy: 0.8919\n",
      "Epoch 33/50\n",
      "58/58 [==============================] - 0s 3ms/step - loss: 0.2822 - accuracy: 0.8973\n",
      "Epoch 34/50\n",
      "58/58 [==============================] - 0s 3ms/step - loss: 0.2755 - accuracy: 0.9016\n",
      "Epoch 35/50\n",
      "58/58 [==============================] - 0s 3ms/step - loss: 0.2791 - accuracy: 0.8990\n",
      "Epoch 36/50\n",
      "58/58 [==============================] - 0s 3ms/step - loss: 0.2626 - accuracy: 0.9059\n",
      "Epoch 37/50\n",
      "58/58 [==============================] - 0s 3ms/step - loss: 0.2552 - accuracy: 0.9109\n",
      "Epoch 38/50\n",
      "58/58 [==============================] - 0s 3ms/step - loss: 0.2523 - accuracy: 0.9105\n",
      "Epoch 39/50\n",
      "58/58 [==============================] - 0s 3ms/step - loss: 0.2479 - accuracy: 0.9141\n",
      "Epoch 40/50\n",
      "58/58 [==============================] - 0s 3ms/step - loss: 0.2440 - accuracy: 0.9148\n",
      "Epoch 41/50\n",
      "58/58 [==============================] - 0s 3ms/step - loss: 0.2337 - accuracy: 0.9213\n",
      "Epoch 42/50\n",
      "58/58 [==============================] - 0s 3ms/step - loss: 0.2302 - accuracy: 0.9211\n",
      "Epoch 43/50\n",
      "58/58 [==============================] - 0s 3ms/step - loss: 0.2264 - accuracy: 0.9244\n",
      "Epoch 44/50\n",
      "58/58 [==============================] - 0s 3ms/step - loss: 0.2189 - accuracy: 0.9266\n",
      "Epoch 45/50\n",
      "58/58 [==============================] - 0s 3ms/step - loss: 0.2128 - accuracy: 0.9288\n",
      "Epoch 46/50\n",
      "58/58 [==============================] - 0s 3ms/step - loss: 0.2061 - accuracy: 0.9325\n",
      "Epoch 47/50\n",
      "58/58 [==============================] - 0s 3ms/step - loss: 0.2086 - accuracy: 0.9329\n",
      "Epoch 48/50\n",
      "58/58 [==============================] - 0s 3ms/step - loss: 0.2177 - accuracy: 0.9280\n",
      "Epoch 49/50\n",
      "58/58 [==============================] - 0s 3ms/step - loss: 0.2101 - accuracy: 0.9304\n",
      "Epoch 50/50\n",
      "58/58 [==============================] - 0s 3ms/step - loss: 0.2004 - accuracy: 0.9365\n"
     ]
    },
    {
     "data": {
      "text/plain": [
       "<keras.callbacks.History at 0x7f28ff71b5e0>"
      ]
     },
     "execution_count": 132,
     "metadata": {},
     "output_type": "execute_result"
    }
   ],
   "source": [
    "# Define model params \n",
    "optimizer = keras.optimizers.Adam(learning_rate=0.001)\n",
    "model = get_base_model() \n",
    "model.compile(optimizer=optimizer, loss='categorical_crossentropy', metrics=['accuracy'])\n",
    "\n",
    "# Train\n",
    "model.fit(X_train, y_train, batch_size=256, epochs=50)"
   ]
  },
  {
   "cell_type": "code",
   "execution_count": 139,
   "id": "de90c80d-1a15-467e-a59b-978a23a8c208",
   "metadata": {},
   "outputs": [
    {
     "name": "stdout",
     "output_type": "stream",
     "text": [
      "226/226 [==============================] - 0s 1ms/step\n"
     ]
    }
   ],
   "source": [
    "# Predict on test data:\n",
    "y_pred = (model.predict(X_test) > 0.5).astype(\"int32\")"
   ]
  },
  {
   "cell_type": "code",
   "execution_count": 162,
   "id": "31328360-4bd7-4c6a-9a7d-20c6880c2fb8",
   "metadata": {},
   "outputs": [
    {
     "name": "stdout",
     "output_type": "stream",
     "text": [
      "              precision    recall  f1-score   support\n",
      "\n",
      "           0       0.10      0.13      0.11       493\n",
      "           1       0.26      0.24      0.25      1161\n",
      "           2       0.81      0.79      0.80      5553\n",
      "\n",
      "    accuracy                           0.66      7207\n",
      "   macro avg       0.39      0.39      0.39      7207\n",
      "weighted avg       0.67      0.66      0.66      7207\n",
      "\n"
     ]
    }
   ],
   "source": [
    "# Print classification metrics:\n",
    "print(sklearn.metrics.classification_report(y_test.argmax(axis=1), y_pred.argmax(axis=1)))"
   ]
  }
 ],
 "metadata": {
  "kernelspec": {
   "display_name": "Python 3 (ipykernel)",
   "language": "python",
   "name": "python3"
  },
  "language_info": {
   "codemirror_mode": {
    "name": "ipython",
    "version": 3
   },
   "file_extension": ".py",
   "mimetype": "text/x-python",
   "name": "python",
   "nbconvert_exporter": "python",
   "pygments_lexer": "ipython3",
   "version": "3.10.6"
  }
 },
 "nbformat": 4,
 "nbformat_minor": 5
}
