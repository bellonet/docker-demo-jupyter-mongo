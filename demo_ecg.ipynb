{
 "cells": [
  {
   "cell_type": "code",
   "execution_count": 1,
   "id": "6c2d8d9c-2c18-4aa6-8cdd-aa2bef384908",
   "metadata": {},
   "outputs": [],
   "source": [
    "import pymongo"
   ]
  },
  {
   "cell_type": "code",
   "execution_count": 2,
   "id": "467be9ce-2ef2-467c-bbca-0ce2d08da497",
   "metadata": {},
   "outputs": [],
   "source": [
    "client = pymongo.MongoClient('mongohost', 27017)"
   ]
  },
  {
   "cell_type": "code",
   "execution_count": 3,
   "id": "3b48ae5e-7157-4b1d-94d3-4bbbdad50a32",
   "metadata": {},
   "outputs": [
    {
     "data": {
      "text/plain": [
       "['admin', 'config', 'ecg_db', 'local']"
      ]
     },
     "execution_count": 3,
     "metadata": {},
     "output_type": "execute_result"
    }
   ],
   "source": [
    "client.list_database_names()"
   ]
  },
  {
   "cell_type": "code",
   "execution_count": 4,
   "id": "8ab06c68-835f-4e7c-a632-9e76b0cac7e1",
   "metadata": {},
   "outputs": [],
   "source": [
    "db = client['ecg_db']"
   ]
  },
  {
   "cell_type": "code",
   "execution_count": 5,
   "id": "ca599214-2f17-401f-875d-1eb5bbbf2c2b",
   "metadata": {},
   "outputs": [],
   "source": [
    "coll = db[\"patients\"]"
   ]
  },
  {
   "cell_type": "code",
   "execution_count": 6,
   "id": "4c228c3f-9aa6-428f-bb12-e27adeb250c4",
   "metadata": {},
   "outputs": [
    {
     "data": {
      "text/plain": [
       "21837"
      ]
     },
     "execution_count": 6,
     "metadata": {},
     "output_type": "execute_result"
    }
   ],
   "source": [
    "coll.count_documents({})"
   ]
  },
  {
   "cell_type": "code",
   "execution_count": null,
   "id": "991a44e6-3393-45bb-ba8b-9c3a6def6e2d",
   "metadata": {},
   "outputs": [],
   "source": []
  }
 ],
 "metadata": {
  "kernelspec": {
   "display_name": "Python 3 (ipykernel)",
   "language": "python",
   "name": "python3"
  },
  "language_info": {
   "codemirror_mode": {
    "name": "ipython",
    "version": 3
   },
   "file_extension": ".py",
   "mimetype": "text/x-python",
   "name": "python",
   "nbconvert_exporter": "python",
   "pygments_lexer": "ipython3",
   "version": "3.10.6"
  }
 },
 "nbformat": 4,
 "nbformat_minor": 5
}
